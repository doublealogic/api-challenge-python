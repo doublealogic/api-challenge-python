{
 "cells": [
  {
   "cell_type": "markdown",
   "metadata": {},
   "source": [
    "#Vacation Py"
   ]
  },
  {
   "cell_type": "code",
   "execution_count": null,
   "metadata": {},
   "outputs": [],
   "source": [
    "# Setup and Importing Dependencies\n",
    "\n",
    "import gmaps\n",
    "import matplotlib.pyplot as plt\n",
    "import numpy as np\n",
    "import os\n",
    "import pandas as pd\n",
    "import requests"
   ]
  },
  {
   "cell_type": "code",
   "execution_count": null,
   "metadata": {},
   "outputs": [],
   "source": [
    "# Imports and defines API Key\n",
    "\n",
    "from api_keys import g_key"
   ]
  },
  {
   "cell_type": "markdown",
   "metadata": {},
   "source": [
    "##Store WeatherPy results into DataFrame\n",
    "* Loads the .csv exported in WeatherPy to a new DataFrame"
   ]
  },
  {
   "cell_type": "code",
   "execution_count": null,
   "metadata": {},
   "outputs": [],
   "source": [
    "vacation_py_df = pd.read_csv(\"../WeatherPy/Output_Data/City_Weather.csv\")\n",
    "\n",
    "# Prints DataFrame\n",
    "vacation_py_df"
   ]
  },
  {
   "cell_type": "markdown",
   "metadata": {},
   "source": [
    "##Humidity Heatmap\n",
    "* Configures gmaps\n",
    "* Uses the Latitude and Longitude as locations as Humidity as the weight.\n",
    "* Adds Heatmap layer to map."
   ]
  },
  {
   "cell_type": "markdown",
   "metadata": {},
   "source": [
    "##Making a New DataFrame to fit my Weather Criteria\n",
    "Narrows down the cities to fit the following weather conditions and drops any rows with null values:\n",
    "* A max temperature lower than 70 but higher than 60\n",
    "* Wind speed less than 5 mph\n",
    "* Cloudiness less than 5.0"
   ]
  },
  {
   "cell_type": "markdown",
   "metadata": {},
   "source": [
    "##Hotel Map\n",
    "* Stores into variable named `hotel_df`.\n",
    "* Adds a \"Hotel Name\" column to the DataFrame\n",
    "* Sets the parameters to search for hotels with 5000 meters.\n",
    "* Hits the Google Places API for each city's coordinates.\n",
    "* Stores the first Hotel result into the DataFrame.\n",
    "* Plots markers on top of the heatmap."
   ]
  }
 ],
 "metadata": {
  "kernelspec": {
   "display_name": "Python [conda env:PythonData]",
   "language": "python",
   "name": "conda-env-PythonData-py"
  },
  "language_info": {
   "codemirror_mode": {
    "name": "ipython",
    "version": 3
   },
   "file_extension": ".py",
   "mimetype": "text/x-python",
   "name": "python",
   "nbconvert_exporter": "python",
   "pygments_lexer": "ipython3",
   "version": "3.6.10"
  }
 },
 "nbformat": 4,
 "nbformat_minor": 2
}
